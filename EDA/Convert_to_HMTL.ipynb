{
 "cells": [
  {
   "cell_type": "code",
   "execution_count": 5,
   "metadata": {},
   "outputs": [
    {
     "name": "stderr",
     "output_type": "stream",
     "text": [
      "[NbConvertApp] Converting notebook EDA_Comments.ipynb to html\n",
      "[NbConvertApp] WARNING | Alternative text is missing on 14 image(s).\n",
      "[NbConvertApp] Writing 1418845 bytes to EDA_Comments.html\n"
     ]
    }
   ],
   "source": [
    "# Convert EDA Comments file to html\n",
    "!jupyter nbconvert --to html EDA_Comments.ipynb"
   ]
  },
  {
   "cell_type": "code",
   "execution_count": 3,
   "metadata": {},
   "outputs": [
    {
     "name": "stderr",
     "output_type": "stream",
     "text": [
      "[NbConvertApp] Converting notebook EDA_Posts.ipynb to html\n",
      "[NbConvertApp] WARNING | Alternative text is missing on 14 image(s).\n",
      "[NbConvertApp] Writing 1051797 bytes to EDA_Posts.html\n"
     ]
    }
   ],
   "source": [
    "# Convert EDA Posts file to html\n",
    "!jupyter nbconvert --to html EDA_Posts.ipynb"
   ]
  },
  {
   "cell_type": "code",
   "execution_count": null,
   "metadata": {},
   "outputs": [],
   "source": []
  }
 ],
 "metadata": {
  "kernelspec": {
   "display_name": "Python 3",
   "language": "python",
   "name": "python3"
  },
  "language_info": {
   "codemirror_mode": {
    "name": "ipython",
    "version": 3
   },
   "file_extension": ".py",
   "mimetype": "text/x-python",
   "name": "python",
   "nbconvert_exporter": "python",
   "pygments_lexer": "ipython3",
   "version": "3.11.1"
  },
  "orig_nbformat": 4
 },
 "nbformat": 4,
 "nbformat_minor": 2
}
