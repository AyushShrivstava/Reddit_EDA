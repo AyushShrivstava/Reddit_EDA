{
 "cells": [
  {
   "attachments": {},
   "cell_type": "markdown",
   "metadata": {},
   "source": [
    "## Library Imports"
   ]
  },
  {
   "cell_type": "code",
   "execution_count": 2,
   "metadata": {},
   "outputs": [],
   "source": [
    "import pandas as pd\n",
    "import numpy as np\n",
    "import os"
   ]
  },
  {
   "attachments": {},
   "cell_type": "markdown",
   "metadata": {},
   "source": [
    "## Reading all CSVs and storing in a combined Dataframe"
   ]
  },
  {
   "cell_type": "code",
   "execution_count": 12,
   "metadata": {},
   "outputs": [
    {
     "name": "stdout",
     "output_type": "stream",
     "text": [
      "\n",
      "Total file concatenated : 100\n"
     ]
    }
   ],
   "source": [
    "# Reading the comments csv files for submissions diretory\n",
    "dir = \"../comments/\"\n",
    "combined_df = pd.DataFrame()\n",
    "count = 0\n",
    "\n",
    "# Looping through the files in the directory\n",
    "for file in os.listdir(dir):\n",
    "\n",
    "    # Checking if it is a csv file\n",
    "    if file.endswith(\".csv\"):\n",
    "        count += 1\n",
    "        df = pd.read_csv(dir+file)\n",
    "        \n",
    "        # concat the dataframes\n",
    "        combined_df = pd.concat([combined_df, df], ignore_index=True)\n",
    "        # print(\"Succesfully Concatenated for post: {}\".format(file))\n",
    "\n",
    "print(\"\\nTotal file concatenated : {}\".format(count))"
   ]
  },
  {
   "attachments": {},
   "cell_type": "markdown",
   "metadata": {},
   "source": [
    "## Saving the combined dataframe as a CSV"
   ]
  },
  {
   "cell_type": "code",
   "execution_count": 24,
   "metadata": {},
   "outputs": [],
   "source": [
    "combined_df.to_csv(\"./Corpus/Comments_Corpus.csv\", index=False)"
   ]
  }
 ],
 "metadata": {
  "kernelspec": {
   "display_name": "Python 3",
   "language": "python",
   "name": "python3"
  },
  "language_info": {
   "codemirror_mode": {
    "name": "ipython",
    "version": 3
   },
   "file_extension": ".py",
   "mimetype": "text/x-python",
   "name": "python",
   "nbconvert_exporter": "python",
   "pygments_lexer": "ipython3",
   "version": "3.11.1"
  },
  "orig_nbformat": 4
 },
 "nbformat": 4,
 "nbformat_minor": 2
}
